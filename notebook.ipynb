{
 "cells": [
  {
   "cell_type": "code",
   "execution_count": 1,
   "metadata": {},
   "outputs": [],
   "source": [
    "import pandas as pd\n",
    "import numpy as np\n",
    "\n",
    "import os\n",
    "import warnings\n",
    "\n",
    "import matplotlib.pyplot as plt\n",
    "\n",
    "warnings.filterwarnings('ignore')\n",
    "%matplotlib inline"
   ]
  },
  {
   "cell_type": "markdown",
   "metadata": {},
   "source": [
    "**Februari 2019**\n",
    "\n",
    "Vi har bestämt oss att kolla hur stort antal offentligt anställda i kommuner och regioner som närmar sig pensionsåldern. Statistiken kommer från SKL och hittas [här för kommundata](https://skl.se/ekonomijuridikstatistik/statistik/personalstatistik/personalenidiagramochsiffror/tabellerkommunalpersonal2017.11575.html), och [här för regiondata](https://skl.se/ekonomijuridikstatistik/statistik/personalstatistik/personalenidiagramochsiffror/tabellerlandstingsanstalldpersonal2017.11576.html). För att få historik kontakde jag informationsansvarig statistiker Clara Arrhenius på SKL som skickade filerna.\n",
    "\n",
    "---\n",
    "\n",
    "**Resultatet av denna notebook användes [till denna artikel](https://www.dagenssamhalle.se/nyhet/var-fjarde-anstalld-lamnar-kommunerna-26613) som publicerades i tidning nr 10, publicerad den 14 mars 2019**\n",
    "\n",
    "---"
   ]
  },
  {
   "cell_type": "markdown",
   "metadata": {},
   "source": [
    "### Tvätt"
   ]
  },
  {
   "cell_type": "markdown",
   "metadata": {},
   "source": [
    "**Anteckningar angående datatvätt**\n",
    "\n",
    "Ok, vidrig myndighetsdata i excelform återigen :)\n",
    "\n",
    "Tre viktiga detaljer:\n",
    "\n",
    "1. Av någon anledning så finns inte åldersgrupperna 50-54 och 55-59 år i länsdata för åren 2008-2010\n",
    "2. Gotland finns endast i länsdata from 2017, så den stryker jag\n",
    "3. Det finns enbart andelsdata på åldersgrupper och antalet måste därför räknas ut bakvägen, så avrundningar kan vara felaktiga på enstaka personer."
   ]
  },
  {
   "cell_type": "code",
   "execution_count": 2,
   "metadata": {},
   "outputs": [],
   "source": [
    "files = [x for x in os.listdir('data') if 'Tabell' in x]"
   ]
  },
  {
   "cell_type": "code",
   "execution_count": 3,
   "metadata": {},
   "outputs": [],
   "source": [
    "LP_files = [x for x in files if \"LP\" in x]"
   ]
  },
  {
   "cell_type": "code",
   "execution_count": 4,
   "metadata": {},
   "outputs": [],
   "source": [
    "files = [x for x in files if not \"LP\" in x]"
   ]
  },
  {
   "cell_type": "code",
   "execution_count": 5,
   "metadata": {},
   "outputs": [],
   "source": [
    "dfr = pd.DataFrame()\n",
    "for file in LP_files:\n",
    "    år = file[-9:-5]\n",
    "    tmp = pd.read_excel(f'data/{file}',header=4)\n",
    "\n",
    "    tmp.columns = ['reg', 'antal', 'andel_kvinnor', 'Unnamed: 3', 'kvinnor', 'män', 'Unnamed: 6', '-29', '30-39', '40-49', '50-54', '55-59', '60-']\n",
    "    tmp['år'] = år\n",
    "    tmp = tmp.drop(['Unnamed: 3','Unnamed: 6'],axis=1).dropna()\n",
    "    # print(år,tmp.shape)\n",
    "    dfr = pd.concat([dfr,tmp])\n",
    "    "
   ]
  },
  {
   "cell_type": "code",
   "execution_count": 6,
   "metadata": {},
   "outputs": [],
   "source": [
    "dfr = dfr[['reg','år','antal','55-59','60-']]\n",
    "dfr.loc[dfr['reg']=='Summa','reg'] = 'Totalt'"
   ]
  },
  {
   "cell_type": "markdown",
   "metadata": {},
   "source": [
    "Bort med Gotland 2017:"
   ]
  },
  {
   "cell_type": "code",
   "execution_count": 7,
   "metadata": {},
   "outputs": [],
   "source": [
    "dfr = dfr[dfr['reg']!='Gotland *']\n",
    "dfr['reg'] = dfr['reg'].str.strip()\n",
    "dfr = dfr.set_index('reg')"
   ]
  },
  {
   "cell_type": "code",
   "execution_count": 8,
   "metadata": {},
   "outputs": [
    {
     "name": "stdout",
     "output_type": "stream",
     "text": [
      "Tabell10 2016.xlsx\n",
      "Tabell10 2017.xlsx\n",
      "Tabell10 2010.xlsx\n",
      "Tabell10 2011.xlsx\n",
      "Tabell10 2008.xlsx\n",
      "Tabell10 2012.xlsx\n",
      "Tabell10 2013.xlsx\n",
      "Tabell10 2009.xlsx\n",
      "Tabell10 2014.xlsx\n",
      "Tabell10 2015.xlsx\n"
     ]
    }
   ],
   "source": [
    "dfk = pd.DataFrame()\n",
    "for file in files:\n",
    "    if file[0] == '~':\n",
    "        continue\n",
    "    print(file)\n",
    "    tmp = pd.read_excel(f'data/{file}').dropna()\n",
    "    tmp.columns = ['reg', 'antal', '-29', '30-39', '40-49', '50-54', '55-59', '60-', '  ', 'medelålder_totalt', 'medelålder_kvinnor', 'medelålder_män']\n",
    "    tmp['år'] = file[-9:-5]\n",
    "    dfk = pd.concat([dfk,tmp])\n",
    "dfk = dfk[dfk['reg']!='Kommun']"
   ]
  },
  {
   "cell_type": "code",
   "execution_count": 9,
   "metadata": {},
   "outputs": [],
   "source": [
    "dfk.loc[dfk['reg'].str.contains('Malung'), 'reg'] = 'Malung-Sälen'"
   ]
  },
  {
   "cell_type": "code",
   "execution_count": 10,
   "metadata": {},
   "outputs": [],
   "source": [
    "dfk = dfk[['reg','år','antal','55-59','60-']]"
   ]
  },
  {
   "cell_type": "code",
   "execution_count": 11,
   "metadata": {},
   "outputs": [],
   "source": [
    "bort = ['Kommunalförbund ',\n",
    "        'Riket',\n",
    "        'Kommungrupper',\n",
    "        'Storstäder',\n",
    "        'Förortskommuner till storstäderna',\n",
    "        'Större städer',\n",
    "        'Förortskommuner till större städer',\n",
    "        'Pendlingskommuner',\n",
    "        'Turism- och besöksnäringskommuner',\n",
    "        'Varuproducerande kommuner',\n",
    "        'Glesbygdkommuner',\n",
    "        'Kommuner i tätbefolkad region',\n",
    "        'Kommuner i glesbefolkad region',\n",
    "        'Pendlingskommun nära storstad',\n",
    "        'Större stad',\n",
    "        'Pendlingskommun nära större stad',\n",
    "        'Lågpendlingskommun nära större stad',\n",
    "        'Mindre stad/tätort',\n",
    "        'Pendlingskommun nära mindre tätort',\n",
    "        'Landsbygdskommun',\n",
    "        'Landsbygdskommun med besöksnäring',\n",
    "        'Förortskommuner ',\n",
    "        'Större städer ',\n",
    "        'Storstäder ',\n",
    "        'Pendlingskommuner ',\n",
    "        'Glesbygdskommuner ',\n",
    "        'Varuproducerande kommuner ',\n",
    "        'Övriga kommuner, över 25 000 inv. ',\n",
    "        'Övriga kommuner,   12 500-25 000 inv. ',\n",
    "        'Övriga kommuner, mindre än 12 500 inv. ',\n",
    "        'Alla kommuner']"
   ]
  },
  {
   "cell_type": "code",
   "execution_count": null,
   "metadata": {},
   "outputs": [],
   "source": []
  },
  {
   "cell_type": "code",
   "execution_count": 12,
   "metadata": {},
   "outputs": [],
   "source": [
    "dfk = dfk[~dfk['reg'].isin(bort)]"
   ]
  },
  {
   "cell_type": "code",
   "execution_count": 13,
   "metadata": {},
   "outputs": [],
   "source": [
    "dfk['reg'] = dfk['reg'].str.strip()"
   ]
  },
  {
   "cell_type": "code",
   "execution_count": 14,
   "metadata": {},
   "outputs": [],
   "source": [
    "dfk = dfk[~dfk['reg'].str.contains(' län')]\n",
    "dfk = dfk.set_index('reg')"
   ]
  },
  {
   "cell_type": "markdown",
   "metadata": {},
   "source": [
    "Kontroll av antalet rader och kolumner per år:"
   ]
  },
  {
   "cell_type": "code",
   "execution_count": 15,
   "metadata": {},
   "outputs": [
    {
     "name": "stdout",
     "output_type": "stream",
     "text": [
      "2016:  (290, 4)\n",
      "2017:  (290, 4)\n",
      "2010:  (290, 4)\n",
      "2011:  (290, 4)\n",
      "2008:  (290, 4)\n",
      "2012:  (290, 4)\n",
      "2013:  (290, 4)\n",
      "2009:  (290, 4)\n",
      "2014:  (290, 4)\n",
      "2015:  (290, 4)\n"
     ]
    }
   ],
   "source": [
    "for year in dfk.år.unique():\n",
    "    print(f'{year}: ', dfk[dfk['år']==year].shape)"
   ]
  },
  {
   "cell_type": "markdown",
   "metadata": {},
   "source": [
    "Gotland ej med i datat"
   ]
  },
  {
   "cell_type": "markdown",
   "metadata": {},
   "source": [
    "All kommundata nu i samma format....PUST"
   ]
  },
  {
   "cell_type": "code",
   "execution_count": 16,
   "metadata": {},
   "outputs": [
    {
     "name": "stdout",
     "output_type": "stream",
     "text": [
      "2012:  (21, 4)\n",
      "2013:  (21, 4)\n",
      "2014:  (21, 4)\n",
      "2015:  (21, 4)\n",
      "2016:  (21, 4)\n",
      "2017:  (21, 4)\n",
      "2011:  (21, 4)\n"
     ]
    }
   ],
   "source": [
    "for year in dfr.år.unique():\n",
    "    print(f'{year}: ', dfr[dfr['år']==year].shape)"
   ]
  },
  {
   "cell_type": "markdown",
   "metadata": {},
   "source": [
    "### Beräkning"
   ]
  },
  {
   "cell_type": "code",
   "execution_count": 17,
   "metadata": {},
   "outputs": [],
   "source": [
    "for col in dfk.columns:\n",
    "    dfk[col] = pd.to_numeric(dfk[col])\n",
    "\n",
    "for col in dfr.columns:\n",
    "    dfr[col] = pd.to_numeric(dfr[col])"
   ]
  },
  {
   "cell_type": "code",
   "execution_count": 18,
   "metadata": {},
   "outputs": [],
   "source": [
    "def calc(df):\n",
    "    df = df.reset_index()[df.reset_index()['reg']!='Totalt'].set_index('reg')\n",
    "    df['antal_55_59'] = (df['antal'] * (df['55-59']/100)).astype('int')\n",
    "    df['antal_60-'] = (df['antal'] * (df['60-']/100)).astype('int')\n",
    "    df['antal_55-'] = df['antal_55_59'] + df['antal_60-']\n",
    "    df['andel_55-'] = df['55-59']+df['60-']\n",
    "    return df[['år','antal','antal_55_59','antal_60-','antal_55-','andel_55-']]"
   ]
  },
  {
   "cell_type": "code",
   "execution_count": 19,
   "metadata": {},
   "outputs": [],
   "source": [
    "df = calc(dfr).reset_index()"
   ]
  },
  {
   "cell_type": "code",
   "execution_count": 20,
   "metadata": {},
   "outputs": [],
   "source": [
    "län = df[df['reg']!='Totalt'][['år','reg','antal_55-','antal']].groupby('år').sum()"
   ]
  },
  {
   "cell_type": "code",
   "execution_count": 21,
   "metadata": {},
   "outputs": [],
   "source": [
    "län['andel_gamla'] = ((län['antal_55-']/län['antal'])*100).round(2)"
   ]
  },
  {
   "cell_type": "code",
   "execution_count": 22,
   "metadata": {},
   "outputs": [],
   "source": [
    "df = calc(dfk).reset_index()"
   ]
  },
  {
   "cell_type": "code",
   "execution_count": 23,
   "metadata": {},
   "outputs": [],
   "source": [
    "kom = df[['år','reg','antal_55-','antal']].groupby('år').sum()"
   ]
  },
  {
   "cell_type": "code",
   "execution_count": 24,
   "metadata": {},
   "outputs": [],
   "source": [
    "kom['andel_gamla'] = ((kom['antal_55-']/kom['antal'])*100).round(2)"
   ]
  },
  {
   "cell_type": "code",
   "execution_count": 25,
   "metadata": {},
   "outputs": [
    {
     "data": {
      "text/html": [
       "<div>\n",
       "<style scoped>\n",
       "    .dataframe tbody tr th:only-of-type {\n",
       "        vertical-align: middle;\n",
       "    }\n",
       "\n",
       "    .dataframe tbody tr th {\n",
       "        vertical-align: top;\n",
       "    }\n",
       "\n",
       "    .dataframe thead th {\n",
       "        text-align: right;\n",
       "    }\n",
       "</style>\n",
       "<table border=\"1\" class=\"dataframe\">\n",
       "  <thead>\n",
       "    <tr style=\"text-align: right;\">\n",
       "      <th></th>\n",
       "      <th>antal_55-</th>\n",
       "      <th>antal</th>\n",
       "      <th>andel_gamla</th>\n",
       "    </tr>\n",
       "    <tr>\n",
       "      <th>år</th>\n",
       "      <th></th>\n",
       "      <th></th>\n",
       "      <th></th>\n",
       "    </tr>\n",
       "  </thead>\n",
       "  <tbody>\n",
       "    <tr>\n",
       "      <th>2008</th>\n",
       "      <td>197154</td>\n",
       "      <td>709171</td>\n",
       "      <td>27.80</td>\n",
       "    </tr>\n",
       "    <tr>\n",
       "      <th>2009</th>\n",
       "      <td>194761</td>\n",
       "      <td>686058</td>\n",
       "      <td>28.39</td>\n",
       "    </tr>\n",
       "    <tr>\n",
       "      <th>2010</th>\n",
       "      <td>192481</td>\n",
       "      <td>679043</td>\n",
       "      <td>28.35</td>\n",
       "    </tr>\n",
       "    <tr>\n",
       "      <th>2011</th>\n",
       "      <td>192764</td>\n",
       "      <td>680589</td>\n",
       "      <td>28.32</td>\n",
       "    </tr>\n",
       "    <tr>\n",
       "      <th>2012</th>\n",
       "      <td>193218</td>\n",
       "      <td>680311</td>\n",
       "      <td>28.40</td>\n",
       "    </tr>\n",
       "    <tr>\n",
       "      <th>2013</th>\n",
       "      <td>193268</td>\n",
       "      <td>682526</td>\n",
       "      <td>28.32</td>\n",
       "    </tr>\n",
       "    <tr>\n",
       "      <th>2014</th>\n",
       "      <td>193946</td>\n",
       "      <td>694585</td>\n",
       "      <td>27.92</td>\n",
       "    </tr>\n",
       "    <tr>\n",
       "      <th>2015</th>\n",
       "      <td>194727</td>\n",
       "      <td>715380</td>\n",
       "      <td>27.22</td>\n",
       "    </tr>\n",
       "    <tr>\n",
       "      <th>2016</th>\n",
       "      <td>196910</td>\n",
       "      <td>748472</td>\n",
       "      <td>26.31</td>\n",
       "    </tr>\n",
       "    <tr>\n",
       "      <th>2017</th>\n",
       "      <td>196404</td>\n",
       "      <td>757804</td>\n",
       "      <td>25.92</td>\n",
       "    </tr>\n",
       "  </tbody>\n",
       "</table>\n",
       "</div>"
      ],
      "text/plain": [
       "      antal_55-   antal  andel_gamla\n",
       "år                                  \n",
       "2008     197154  709171        27.80\n",
       "2009     194761  686058        28.39\n",
       "2010     192481  679043        28.35\n",
       "2011     192764  680589        28.32\n",
       "2012     193218  680311        28.40\n",
       "2013     193268  682526        28.32\n",
       "2014     193946  694585        27.92\n",
       "2015     194727  715380        27.22\n",
       "2016     196910  748472        26.31\n",
       "2017     196404  757804        25.92"
      ]
     },
     "execution_count": 25,
     "metadata": {},
     "output_type": "execute_result"
    }
   ],
   "source": [
    "# Kommunernas siffror per år:\n",
    "kom"
   ]
  },
  {
   "cell_type": "code",
   "execution_count": 26,
   "metadata": {},
   "outputs": [
    {
     "data": {
      "text/plain": [
       "(20, 30)"
      ]
     },
     "execution_count": 26,
     "metadata": {},
     "output_type": "execute_result"
    },
    {
     "data": {
      "image/png": "[encoded data removed]",
      "text/plain": [
       "<Figure size 648x504 with 1 Axes>"
      ]
     },
     "metadata": {
      "needs_background": "light"
     },
     "output_type": "display_data"
    }
   ],
   "source": [
    "\n",
    "kom.andel_gamla.plot(figsize=(9,7))\n",
    "plt.ylim(bottom=20,top=30)"
   ]
  },
  {
   "cell_type": "markdown",
   "metadata": {},
   "source": [
    "Så en svag nedgån i andelen äldre som anställda i Sveriges kommuner de senaste 10 åren!"
   ]
  },
  {
   "cell_type": "code",
   "execution_count": 27,
   "metadata": {},
   "outputs": [
    {
     "data": {
      "text/plain": [
       "-750"
      ]
     },
     "execution_count": 27,
     "metadata": {},
     "output_type": "execute_result"
    }
   ],
   "source": [
    "# Skillnad mellan 2017 och 2008 i antalet anställda 55-plusare i kommunerna\n",
    "kom.loc[kom.index==2017,'antal_55-'].values[0] - kom.loc[kom.index==2008,'antal_55-'].values[0]"
   ]
  },
  {
   "cell_type": "code",
   "execution_count": 28,
   "metadata": {},
   "outputs": [
    {
     "data": {
      "text/plain": [
       "269105"
      ]
     },
     "execution_count": 28,
     "metadata": {},
     "output_type": "execute_result"
    }
   ],
   "source": [
    "# Totalt antal anställda 55-plusare i kommun och landsting 2017\n",
    "kom.loc[kom.index==2017,'antal_55-'].values[0]+län.loc[län.index==2017,'antal_55-'].values[0]"
   ]
  },
  {
   "cell_type": "code",
   "execution_count": 29,
   "metadata": {},
   "outputs": [
    {
     "data": {
      "text/plain": [
       "-1.9"
      ]
     },
     "execution_count": 29,
     "metadata": {},
     "output_type": "execute_result"
    }
   ],
   "source": [
    "# Skillnad i procenenheter i andelen gamla 2017 jämfört 2008 i kommunerna\n",
    "(kom.loc[kom.index==2017,'andel_gamla'].values[0] - kom.loc[kom.index==2008,'andel_gamla'].values[0]).round(1)"
   ]
  },
  {
   "cell_type": "code",
   "execution_count": 30,
   "metadata": {},
   "outputs": [
    {
     "data": {
      "text/plain": [
       "26.3"
      ]
     },
     "execution_count": 30,
     "metadata": {},
     "output_type": "execute_result"
    }
   ],
   "source": [
    "# Andelen 55-plusare i riket 2017\n",
    "(((kom.loc[kom.index==2017,'antal_55-'].values[0]+län.loc[län.index==2017,'antal_55-'].values[0])\\\n",
    "/(kom.loc[kom.index==2017,'antal'].values[0]+län.loc[län.index==2017,'antal'].values[0]))*100).round(1)"
   ]
  },
  {
   "cell_type": "code",
   "execution_count": 31,
   "metadata": {},
   "outputs": [
    {
     "data": {
      "text/plain": [
       "25.9"
      ]
     },
     "execution_count": 31,
     "metadata": {},
     "output_type": "execute_result"
    }
   ],
   "source": [
    "# Andelen 55-plusare i kommunerna 2017\n",
    "((kom.loc[kom.index==2017,'antal_55-'].values[0]/kom.loc[kom.index==2017,'antal'].values[0])*100).round(1)"
   ]
  },
  {
   "cell_type": "code",
   "execution_count": 32,
   "metadata": {},
   "outputs": [],
   "source": [
    "def results(df,year=2017):\n",
    "    df = df.reset_index()[df.reset_index()['reg']!='Totalt'].set_index('reg')\n",
    "    \n",
    "    start = df.år.min()\n",
    "    \n",
    "    tmp = calc(df).reset_index()[['reg','år', 'andel_55-']]\n",
    "    resultat = tmp.pivot_table(index='reg',columns='år')\n",
    "    \n",
    "    \n",
    "    \n",
    "    resultat.columns = resultat.columns.droplevel()\n",
    "    resultat['diff'] = resultat[year]-resultat[start]\n",
    "    \n",
    "    resultat = resultat.reset_index()[['reg',year,'diff']]\\\n",
    "                    .sort_values(year,ascending=False).reset_index(drop=True)\n",
    "    \n",
    "    tmp = calc(df).reset_index()[['reg','år','antal_55-']]\n",
    "    tmp = tmp.loc[tmp['år']==year,['reg','antal_55-']]\n",
    "    \n",
    "    resultat = resultat.merge(tmp,on='reg',how='left')\n",
    "    \n",
    "    resultat = resultat[['reg','antal_55-',year,'diff']]\n",
    "    resultat.columns = ['Region/kommun','Antal anställda 55 år+',\n",
    "                        'Andel anställda 55 år+',f\"Förändring {start}-2017, %-enheter\"]\n",
    "    \n",
    "    return resultat"
   ]
  },
  {
   "cell_type": "code",
   "execution_count": 33,
   "metadata": {},
   "outputs": [
    {
     "data": {
      "text/html": [
       "<div>\n",
       "<style scoped>\n",
       "    .dataframe tbody tr th:only-of-type {\n",
       "        vertical-align: middle;\n",
       "    }\n",
       "\n",
       "    .dataframe tbody tr th {\n",
       "        vertical-align: top;\n",
       "    }\n",
       "\n",
       "    .dataframe thead th {\n",
       "        text-align: right;\n",
       "    }\n",
       "</style>\n",
       "<table border=\"1\" class=\"dataframe\">\n",
       "  <thead>\n",
       "    <tr style=\"text-align: right;\">\n",
       "      <th></th>\n",
       "      <th>Region/kommun</th>\n",
       "      <th>Antal anställda 55 år+</th>\n",
       "      <th>Andel anställda 55 år+</th>\n",
       "      <th>Förändring 2008-2017, %-enheter</th>\n",
       "    </tr>\n",
       "  </thead>\n",
       "  <tbody>\n",
       "    <tr>\n",
       "      <th>0</th>\n",
       "      <td>Pajala</td>\n",
       "      <td>278</td>\n",
       "      <td>41.1</td>\n",
       "      <td>8.34</td>\n",
       "    </tr>\n",
       "    <tr>\n",
       "      <th>1</th>\n",
       "      <td>Övertorneå</td>\n",
       "      <td>202</td>\n",
       "      <td>40.6</td>\n",
       "      <td>10.60</td>\n",
       "    </tr>\n",
       "    <tr>\n",
       "      <th>2</th>\n",
       "      <td>Skinnskatteberg</td>\n",
       "      <td>145</td>\n",
       "      <td>38.3</td>\n",
       "      <td>7.90</td>\n",
       "    </tr>\n",
       "    <tr>\n",
       "      <th>3</th>\n",
       "      <td>Åsele</td>\n",
       "      <td>117</td>\n",
       "      <td>36.2</td>\n",
       "      <td>3.53</td>\n",
       "    </tr>\n",
       "    <tr>\n",
       "      <th>4</th>\n",
       "      <td>Smedjebacken</td>\n",
       "      <td>290</td>\n",
       "      <td>35.8</td>\n",
       "      <td>0.66</td>\n",
       "    </tr>\n",
       "  </tbody>\n",
       "</table>\n",
       "</div>"
      ],
      "text/plain": [
       "     Region/kommun  Antal anställda 55 år+  Andel anställda 55 år+  \\\n",
       "0           Pajala                     278                    41.1   \n",
       "1       Övertorneå                     202                    40.6   \n",
       "2  Skinnskatteberg                     145                    38.3   \n",
       "3            Åsele                     117                    36.2   \n",
       "4     Smedjebacken                     290                    35.8   \n",
       "\n",
       "   Förändring 2008-2017, %-enheter  \n",
       "0                             8.34  \n",
       "1                            10.60  \n",
       "2                             7.90  \n",
       "3                             3.53  \n",
       "4                             0.66  "
      ]
     },
     "execution_count": 33,
     "metadata": {},
     "output_type": "execute_result"
    }
   ],
   "source": [
    "results(dfk).head()"
   ]
  },
  {
   "cell_type": "code",
   "execution_count": 35,
   "metadata": {},
   "outputs": [],
   "source": [
    "if not os.path.isdir('res'):\n",
    "    os.makedirs('res')"
   ]
  },
  {
   "cell_type": "code",
   "execution_count": 36,
   "metadata": {},
   "outputs": [],
   "source": [
    "# Spara till resultatfiler\n",
    "results(dfk).to_excel('res/kommuner.xlsx',index=False)\n",
    "results(dfr).to_excel('res/regioner.xlsx',index=False)"
   ]
  },
  {
   "cell_type": "code",
   "execution_count": 37,
   "metadata": {},
   "outputs": [],
   "source": [
    "df = results(dfk)"
   ]
  },
  {
   "cell_type": "code",
   "execution_count": 38,
   "metadata": {},
   "outputs": [
    {
     "data": {
      "text/plain": [
       "(66, 4)"
      ]
     },
     "execution_count": 38,
     "metadata": {},
     "output_type": "execute_result"
    }
   ],
   "source": [
    "# Antalet kommuner där andelen 55-plusare ökat sedan 2008\n",
    "df[df['Förändring 2008-2017, %-enheter']>0].shape"
   ]
  },
  {
   "cell_type": "code",
   "execution_count": 39,
   "metadata": {},
   "outputs": [
    {
     "data": {
      "text/plain": [
       "(167, 4)"
      ]
     },
     "execution_count": 39,
     "metadata": {},
     "output_type": "execute_result"
    }
   ],
   "source": [
    "# Antalet kommuner som har större andel 55-plusare 2017 jämfört med genomsnittet i Sveriges kommuner\n",
    "df[df['Andel anställda 55 år+']>(25.9)].shape"
   ]
  },
  {
   "cell_type": "code",
   "execution_count": 40,
   "metadata": {},
   "outputs": [],
   "source": [
    "dåliga = df[df['Förändring 2008-2017, %-enheter']>0]['Region/kommun'].tolist()"
   ]
  },
  {
   "cell_type": "code",
   "execution_count": 41,
   "metadata": {},
   "outputs": [],
   "source": [
    "df = calc(dfk[dfk.index.isin(dåliga)]).reset_index()"
   ]
  },
  {
   "cell_type": "code",
   "execution_count": 42,
   "metadata": {},
   "outputs": [],
   "source": [
    "df1 = df[['reg','år','antal','antal_55-']].groupby(['år']).sum()\n",
    "tmp = df[df['reg']!='Stockholm'][['reg','år','antal','antal_55-']].groupby(['år']).sum()\n",
    "sthlm = df[df['reg']=='Stockholm'][['reg','år','antal','antal_55-']].groupby(['år']).sum()"
   ]
  },
  {
   "cell_type": "code",
   "execution_count": 43,
   "metadata": {},
   "outputs": [],
   "source": [
    "df1['andel']=((df1['antal_55-']/df1['antal'])*100).round(1)\n",
    "tmp['andel']=((tmp['antal_55-']/tmp['antal'])*100).round(1)\n",
    "sthlm['andel']=((sthlm['antal_55-']/sthlm['antal'])*100).round(1)"
   ]
  },
  {
   "cell_type": "code",
   "execution_count": 44,
   "metadata": {},
   "outputs": [
    {
     "data": {
      "image/png": "[encoded data removed]",
      "text/plain": [
       "<Figure size 648x504 with 1 Axes>"
      ]
     },
     "metadata": {
      "needs_background": "light"
     },
     "output_type": "display_data"
    }
   ],
   "source": [
    "fig, ax = plt.subplots(figsize=(9,7))\n",
    "\n",
    "df1.rename(columns={'andel':'Dålig trend-kommuner'})['Dålig trend-kommuner'].plot(ax=ax)\n",
    "kom.rename(columns={'andel_gamla':'Samtliga kommuner'})['Samtliga kommuner'].plot(ax=ax)\n",
    "sthlm.rename(columns={'andel':'Stockholm'})['Stockholm'].plot(ax=ax)\n",
    "plt.ylim(bottom=25,top=31)\n",
    "plt.grid(True,axis='y')\n",
    "fig.legend(loc=(0.1,0.11))\n",
    "plt.savefig('plot.png')"
   ]
  },
  {
   "cell_type": "markdown",
   "metadata": {},
   "source": [
    "Trendkuran ovan visar att andelen äldre i kommunernas förvaltning ökade 2009 och nådde sedan en topp 2012, men har sedan dess sjunkit. Lägesbilden blir med andra ord inte värre. Men enskilda kommuner går emot denna övergripande trend – i 66 kommuner ökar andelen äldre. I Övertorneå ökade exempelvis andelen anställda 55 år+ med 10 procentenheter de senaste tio åren – och det var från en redan hög nivå. Vi valde därför att fokusera på dessa kommuners utmaning."
   ]
  },
  {
   "cell_type": "code",
   "execution_count": 45,
   "metadata": {},
   "outputs": [],
   "source": [
    "kom.reset_index().to_excel('res/riket.xlsx',index=False)"
   ]
  },
  {
   "cell_type": "code",
   "execution_count": null,
   "metadata": {},
   "outputs": [],
   "source": []
  },
  {
   "cell_type": "code",
   "execution_count": null,
   "metadata": {},
   "outputs": [],
   "source": []
  },
  {
   "cell_type": "code",
   "execution_count": null,
   "metadata": {},
   "outputs": [],
   "source": []
  },
  {
   "cell_type": "code",
   "execution_count": null,
   "metadata": {},
   "outputs": [],
   "source": []
  },
  {
   "cell_type": "code",
   "execution_count": null,
   "metadata": {},
   "outputs": [],
   "source": []
  },
  {
   "cell_type": "code",
   "execution_count": null,
   "metadata": {},
   "outputs": [],
   "source": []
  }
 ],
 "metadata": {
  "kernelspec": {
   "display_name": "Python 3",
   "language": "python",
   "name": "python3"
  },
  "language_info": {
   "codemirror_mode": {
    "name": "ipython",
    "version": 3
   },
   "file_extension": ".py",
   "mimetype": "text/x-python",
   "name": "python",
   "nbconvert_exporter": "python",
   "pygments_lexer": "ipython3",
   "version": "3.7.2"
  }
 },
 "nbformat": 4,
 "nbformat_minor": 2
}
